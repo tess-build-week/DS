{
 "cells": [
  {
   "cell_type": "code",
   "execution_count": 1,
   "metadata": {},
   "outputs": [],
   "source": [
    "# Lots of imports, coppied from astroquery documentation\n",
    "import sys\n",
    "import os\n",
    "import time\n",
    "import re\n",
    "import json\n",
    "\n",
    "try: # Python 3.x\n",
    "    from urllib.parse import quote as urlencode\n",
    "    from urllib.request import urlretrieve\n",
    "except ImportError:  # Python 2.x\n",
    "    from urllib import pathname2url as urlencode\n",
    "    from urllib import urlretrieve\n",
    "\n",
    "try: # Python 3.x\n",
    "    import http.client as httplib \n",
    "except ImportError:  # Python 2.x\n",
    "    import httplib   \n",
    "\n",
    "from astropy.table import Table\n",
    "import numpy as np\n",
    "\n",
    "import pprint\n",
    "pp = pprint.PrettyPrinter(indent=4)"
   ]
  },
  {
   "cell_type": "code",
   "execution_count": 2,
   "metadata": {},
   "outputs": [],
   "source": [
    "#Advanced mast query builder. Based on code from astroquery documentation\n",
    "\n",
    "def mastQuery(request):\n",
    "    \"\"\"Perform a MAST query.\n",
    "    \n",
    "        Parameters\n",
    "        ----------\n",
    "        request (dictionary): The MAST request json object\n",
    "        \n",
    "        Returns head,content where head is the response HTTP headers, and content is the returned data\"\"\"\n",
    "    \n",
    "    server='mast.stsci.edu'\n",
    "\n",
    "    # Grab Python Version \n",
    "    version = \".\".join(map(str, sys.version_info[:3]))\n",
    "\n",
    "    # Create Http Header Variables\n",
    "    headers = {\"Content-type\": \"application/x-www-form-urlencoded\",\n",
    "               \"Accept\": \"text/plain\",\n",
    "               \"User-agent\":\"python-requests/\"+version}\n",
    "\n",
    "    # Encoding the request as a json string\n",
    "    requestString = json.dumps(request)\n",
    "    requestString = urlencode(requestString)\n",
    "    \n",
    "    # opening the https connection\n",
    "    conn = httplib.HTTPSConnection(server)\n",
    "\n",
    "    # Making the query\n",
    "    conn.request(\"POST\", \"/api/v0/invoke\", \"request=\"+requestString, headers)\n",
    "\n",
    "    # Getting the response\n",
    "    resp = conn.getresponse()\n",
    "    head = resp.getheaders()\n",
    "    content = resp.read().decode('utf-8')\n",
    "\n",
    "    # Close the https connection\n",
    "    conn.close()\n",
    "\n",
    "    return head,content"
   ]
  },
  {
   "cell_type": "code",
   "execution_count": 5,
   "metadata": {},
   "outputs": [
    {
     "name": "stdout",
     "output_type": "stream",
     "text": [
      "{   'resolvedCoordinate': [   {   'cacheDate': 'Jun 13, 2019 5:52:09 PM',\n",
      "                                  'cached': True,\n",
      "                                  'canonicalName': 'MESSIER 101',\n",
      "                                  'decl': 54.34895,\n",
      "                                  'objectType': 'G',\n",
      "                                  'ra': 210.80227,\n",
      "                                  'radius': 0.24000000000000002,\n",
      "                                  'resolver': 'NED',\n",
      "                                  'resolverTime': 233,\n",
      "                                  'searchRadius': -1.0,\n",
      "                                  'searchString': 'm101'}],\n",
      "    'status': ''}\n",
      "[('Server', 'nginx/1.12.2'), ('Date', 'Wed, 26 Jun 2019 19:30:49 GMT'), ('Content-Type', 'application/json;charset=UTF-8'), ('Transfer-Encoding', 'chunked'), ('Connection', 'keep-alive'), ('Cache-Control', 'private, max-age=0'), ('X-AspNet-Version', '4.0.30319'), ('Set-Cookie', 'MAST_Session=Id=ced8b6f5-66a3-439e-bf3c-ecb63368c3c1; path=/'), ('X-Powered-By', 'ASP.NET'), ('Access-Control-Allow-Origin', '*'), ('Access-Control-Allow-Headers', 'x-requested-with'), ('Set-Cookie', 'STROUTE=1561577448.845; Path=/')]\n"
     ]
    }
   ],
   "source": [
    "# Test 1: Basic name lookup\n",
    "\n",
    "objectOfInterest = 'M101'\n",
    "\n",
    "resolverRequest = {'service':'Mast.Name.Lookup',\n",
    "                     'params':{'input':objectOfInterest,\n",
    "                               'format':'json'},\n",
    "                     }\n",
    "\n",
    "headers,resolvedObjectString = mastQuery(resolverRequest)\n",
    "\n",
    "resolvedObject = json.loads(resolvedObjectString)\n",
    "\n",
    "pp.pprint(resolvedObject)"
   ]
  },
  {
   "cell_type": "code",
   "execution_count": 4,
   "metadata": {},
   "outputs": [],
   "source": [
    "# Get right ascnesion and declination\n",
    "objRa = resolvedObject['resolvedCoordinate'][0]['ra']\n",
    "objDec = resolvedObject['resolvedCoordinate'][0]['decl']"
   ]
  },
  {
   "cell_type": "code",
   "execution_count": 6,
   "metadata": {},
   "outputs": [],
   "source": [
    "mashupRequest = {\"service\":\"Mast.Caom.Filtered\",\n",
    "                 \"format\":\"json\",\n",
    "                 \"params\":{\n",
    "                     \"columns\":\"COUNT_BIG(*)\",\n",
    "                     \"filters\":[\n",
    "                         {\"paramName\":\"filters\",\n",
    "                          \"values\":[\"NUV\",\"FUV\"],\n",
    "                          \"separator\":\";\"\n",
    "                         },\n",
    "                         {\"paramName\":\"t_max\",\n",
    "                          \"values\":[{\"min\":52264.4586,\"max\":54452.8914}], #MJD\n",
    "                         },\n",
    "                         {\"paramName\":\"obsid\",\n",
    "                          \"values\":[],\n",
    "                          \"freeText\":\"%200%\"}\n",
    "                     ]}}\n",
    "    \n",
    "headers,outString = mastQuery(mashupRequest)\n",
    "countData = json.loads(outString)"
   ]
  },
  {
   "cell_type": "code",
   "execution_count": 8,
   "metadata": {},
   "outputs": [
    {
     "data": {
      "text/plain": [
       "{'status': 'COMPLETE',\n",
       " 'msg': '',\n",
       " 'data': [{'Column1': 1068}],\n",
       " 'fields': [{'name': 'Column1', 'type': 'string'}],\n",
       " 'paging': {'page': 1,\n",
       "  'pageSize': 1,\n",
       "  'pagesFiltered': 1,\n",
       "  'rows': 1,\n",
       "  'rowsFiltered': 1,\n",
       "  'rowsTotal': 1}}"
      ]
     },
     "execution_count": 8,
     "metadata": {},
     "output_type": "execute_result"
    }
   ],
   "source": [
    "countData"
   ]
  },
  {
   "cell_type": "code",
   "execution_count": 22,
   "metadata": {},
   "outputs": [],
   "source": [
    "#build basic request. Will loop over stars, build dataframe\n",
    "# I think this will negate having to do name lookups\n",
    "requestTic = {\"service\":\"Mast.Catalogs.Filtered.Tic\",\n",
    "              \"format\":\"json\",\n",
    "              \"params\":{\n",
    "                  \"columns\":\"c.GAIA\", #Column name to get\n",
    "                  \"filters\":[\n",
    "                       {\"paramName\":\"ID\",\n",
    "                         \"values\":[\"101417386\"]}]\n",
    "                    }\n",
    "}\n",
    "\n",
    "headers,outString = mastQuery(requestTic)\n",
    "outData = json.loads(outString)"
   ]
  },
  {
   "cell_type": "code",
   "execution_count": 23,
   "metadata": {},
   "outputs": [
    {
     "data": {
      "text/plain": [
       "'{\"status\" : \"COMPLETE\",\"msg\" : \"\",\"data\":[{\"GAIA\":\"5670584955144424576\"}],\"fields\":[{\"name\":\"GAIA\",\"type\":\"string\"}],\"paging\":{\"page\":1,\"pageSize\":1,\"pagesFiltered\":1,\"rows\":1,\"rowsFiltered\":1,\"rowsTotal\":1}}'"
      ]
     },
     "execution_count": 23,
     "metadata": {},
     "output_type": "execute_result"
    }
   ],
   "source": [
    "#Test\n",
    "\n",
    "outString"
   ]
  },
  {
   "cell_type": "code",
   "execution_count": 38,
   "metadata": {},
   "outputs": [],
   "source": [
    "def aqTicReq(tessid, column):\n",
    "    requestTic = {\"service\":\"Mast.Catalogs.Filtered.Tic\",\n",
    "                  \"format\":\"json\",\n",
    "                  \"params\":{\n",
    "                      \"columns\":\"c.{}\".format(str(column)), #Column name to get\n",
    "                      \"filters\":[\n",
    "                           {\"paramName\":\"ID\",\n",
    "                             \"values\":[str(tessid)]}]\n",
    "                        }\n",
    "    }\n",
    "\n",
    "    headers,outString = mastQuery(requestTic)\n",
    "    return(outData['data'][0][str(column)])"
   ]
  },
  {
   "cell_type": "code",
   "execution_count": 39,
   "metadata": {},
   "outputs": [
    {
     "data": {
      "text/plain": [
       "'5670584955144424576'"
      ]
     },
     "execution_count": 39,
     "metadata": {},
     "output_type": "execute_result"
    }
   ],
   "source": [
    "aqTicReq(118313102, ('GAIA'))"
   ]
  },
  {
   "cell_type": "code",
   "execution_count": 42,
   "metadata": {},
   "outputs": [
    {
     "ename": "KeyError",
     "evalue": "'ra'",
     "output_type": "error",
     "traceback": [
      "\u001b[0;31m---------------------------------------------------------------------------\u001b[0m",
      "\u001b[0;31mKeyError\u001b[0m                                  Traceback (most recent call last)",
      "\u001b[0;32m<ipython-input-42-f62418d4257a>\u001b[0m in \u001b[0;36m<module>\u001b[0;34m\u001b[0m\n\u001b[0;32m----> 1\u001b[0;31m \u001b[0mround\u001b[0m\u001b[0;34m(\u001b[0m\u001b[0mfloat\u001b[0m\u001b[0;34m(\u001b[0m\u001b[0maqTicReq\u001b[0m\u001b[0;34m(\u001b[0m\u001b[0;36m118313102\u001b[0m\u001b[0;34m,\u001b[0m \u001b[0;34m(\u001b[0m\u001b[0;34m'ra'\u001b[0m\u001b[0;34m)\u001b[0m\u001b[0;34m)\u001b[0m\u001b[0;34m,\u001b[0m \u001b[0;36m10\u001b[0m\u001b[0;34m)\u001b[0m\u001b[0;34m)\u001b[0m\u001b[0;34m\u001b[0m\u001b[0;34m\u001b[0m\u001b[0m\n\u001b[0m",
      "\u001b[0;32m<ipython-input-38-ca23de90cc63>\u001b[0m in \u001b[0;36maqTicReq\u001b[0;34m(tessid, column)\u001b[0m\n\u001b[1;32m     11\u001b[0m \u001b[0;34m\u001b[0m\u001b[0m\n\u001b[1;32m     12\u001b[0m     \u001b[0mheaders\u001b[0m\u001b[0;34m,\u001b[0m\u001b[0moutString\u001b[0m \u001b[0;34m=\u001b[0m \u001b[0mmastQuery\u001b[0m\u001b[0;34m(\u001b[0m\u001b[0mrequestTic\u001b[0m\u001b[0;34m)\u001b[0m\u001b[0;34m\u001b[0m\u001b[0;34m\u001b[0m\u001b[0m\n\u001b[0;32m---> 13\u001b[0;31m     \u001b[0;32mreturn\u001b[0m\u001b[0;34m(\u001b[0m\u001b[0moutData\u001b[0m\u001b[0;34m[\u001b[0m\u001b[0;34m'data'\u001b[0m\u001b[0;34m]\u001b[0m\u001b[0;34m[\u001b[0m\u001b[0;36m0\u001b[0m\u001b[0;34m]\u001b[0m\u001b[0;34m[\u001b[0m\u001b[0mstr\u001b[0m\u001b[0;34m(\u001b[0m\u001b[0mcolumn\u001b[0m\u001b[0;34m)\u001b[0m\u001b[0;34m]\u001b[0m\u001b[0;34m)\u001b[0m\u001b[0;34m\u001b[0m\u001b[0;34m\u001b[0m\u001b[0m\n\u001b[0m",
      "\u001b[0;31mKeyError\u001b[0m: 'ra'"
     ]
    }
   ],
   "source": [
    "round(float(aqTicReq(118313102, ('ra')), 10)) "
   ]
  },
  {
   "cell_type": "code",
   "execution_count": null,
   "metadata": {},
   "outputs": [],
   "source": []
  }
 ],
 "metadata": {
  "kernelspec": {
   "display_name": "Python 3",
   "language": "python",
   "name": "python3"
  },
  "language_info": {
   "codemirror_mode": {
    "name": "ipython",
    "version": 3
   },
   "file_extension": ".py",
   "mimetype": "text/x-python",
   "name": "python",
   "nbconvert_exporter": "python",
   "pygments_lexer": "ipython3",
   "version": "3.7.3"
  }
 },
 "nbformat": 4,
 "nbformat_minor": 2
}
