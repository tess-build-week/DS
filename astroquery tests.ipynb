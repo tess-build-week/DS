{
 "cells": [
  {
   "cell_type": "code",
   "execution_count": 2,
   "metadata": {},
   "outputs": [],
   "source": [
    "import numpy as np\n",
    "import requests\n",
    "import matplotlib.pyplot as plt\n",
    "import pandas as pd\n",
    "from IPython.display import display, HTML\n",
    "\n",
    "%matplotlib inline\n"
   ]
  },
  {
   "cell_type": "code",
   "execution_count": 3,
   "metadata": {},
   "outputs": [],
   "source": [
    "planets_url = 'https://exo.mast.stsci.edu/api/v0.1/exoplanets/'\n",
    "dvurl = 'https://exo.mast.stsci.edu/api/v0.1/dvdata/tess/'\n",
    "header = ()\n",
    "\n",
    "ctl_file = './data/exo_CTL_08.01.csv'\n",
    "tess"
   ]
  },
  {
   "cell_type": "code",
   "execution_count": 11,
   "metadata": {},
   "outputs": [],
   "source": [
    "ctl = pd.read_csv(ctl_file, skiprows=9, names=(\"ticid\", \"priority\", \"splist\"))"
   ]
  },
  {
   "cell_type": "code",
   "execution_count": 19,
   "metadata": {},
   "outputs": [
    {
     "data": {
      "text/html": [
       "<div>\n",
       "<style scoped>\n",
       "    .dataframe tbody tr th:only-of-type {\n",
       "        vertical-align: middle;\n",
       "    }\n",
       "\n",
       "    .dataframe tbody tr th {\n",
       "        vertical-align: top;\n",
       "    }\n",
       "\n",
       "    .dataframe thead th {\n",
       "        text-align: right;\n",
       "    }\n",
       "</style>\n",
       "<table border=\"1\" class=\"dataframe\">\n",
       "  <thead>\n",
       "    <tr style=\"text-align: right;\">\n",
       "      <th></th>\n",
       "      <th>ticid</th>\n",
       "      <th>priority</th>\n",
       "      <th>splist</th>\n",
       "    </tr>\n",
       "  </thead>\n",
       "  <tbody>\n",
       "    <tr>\n",
       "      <th>621029</th>\n",
       "      <td>26546414</td>\n",
       "      <td>0.000412</td>\n",
       "      <td>cooldwarfs_v8</td>\n",
       "    </tr>\n",
       "    <tr>\n",
       "      <th>1611942</th>\n",
       "      <td>72092663</td>\n",
       "      <td>0.000360</td>\n",
       "      <td>planetcandidate</td>\n",
       "    </tr>\n",
       "    <tr>\n",
       "      <th>1393424</th>\n",
       "      <td>63020029</td>\n",
       "      <td>0.000039</td>\n",
       "      <td>planetcandidate</td>\n",
       "    </tr>\n",
       "    <tr>\n",
       "      <th>6738059</th>\n",
       "      <td>333115641</td>\n",
       "      <td>0.000064</td>\n",
       "      <td>cooldwarfs_v8</td>\n",
       "    </tr>\n",
       "    <tr>\n",
       "      <th>284936</th>\n",
       "      <td>12857313</td>\n",
       "      <td>0.000000</td>\n",
       "      <td>planetcandidate</td>\n",
       "    </tr>\n",
       "    <tr>\n",
       "      <th>7804262</th>\n",
       "      <td>388840069</td>\n",
       "      <td>0.001446</td>\n",
       "      <td>planetcandidate</td>\n",
       "    </tr>\n",
       "    <tr>\n",
       "      <th>8946069</th>\n",
       "      <td>444042114</td>\n",
       "      <td>0.000653</td>\n",
       "      <td>planetcandidate</td>\n",
       "    </tr>\n",
       "    <tr>\n",
       "      <th>6889182</th>\n",
       "      <td>341883478</td>\n",
       "      <td>0.000008</td>\n",
       "      <td>planetcandidate</td>\n",
       "    </tr>\n",
       "    <tr>\n",
       "      <th>1904672</th>\n",
       "      <td>86709210</td>\n",
       "      <td>0.000010</td>\n",
       "      <td>planetcandidate</td>\n",
       "    </tr>\n",
       "    <tr>\n",
       "      <th>6965145</th>\n",
       "      <td>346141102</td>\n",
       "      <td>0.000000</td>\n",
       "      <td>planetcandidate</td>\n",
       "    </tr>\n",
       "  </tbody>\n",
       "</table>\n",
       "</div>"
      ],
      "text/plain": [
       "             ticid  priority           splist\n",
       "621029    26546414  0.000412    cooldwarfs_v8\n",
       "1611942   72092663  0.000360  planetcandidate\n",
       "1393424   63020029  0.000039  planetcandidate\n",
       "6738059  333115641  0.000064    cooldwarfs_v8\n",
       "284936    12857313  0.000000  planetcandidate\n",
       "7804262  388840069  0.001446  planetcandidate\n",
       "8946069  444042114  0.000653  planetcandidate\n",
       "6889182  341883478  0.000008  planetcandidate\n",
       "1904672   86709210  0.000010  planetcandidate\n",
       "6965145  346141102  0.000000  planetcandidate"
      ]
     },
     "execution_count": 19,
     "metadata": {},
     "output_type": "execute_result"
    }
   ],
   "source": [
    "ctl.sample(10)"
   ]
  },
  {
   "cell_type": "code",
   "execution_count": 23,
   "metadata": {},
   "outputs": [
    {
     "data": {
      "text/plain": [
       "0     46\n",
       "1    101\n",
       "2    114\n",
       "3    129\n",
       "4    150\n",
       "Name: ticid, dtype: int64"
      ]
     },
     "execution_count": 23,
     "metadata": {},
     "output_type": "execute_result"
    }
   ],
   "source": [
    "ctl.head()['ticid']"
   ]
  },
  {
   "cell_type": "code",
   "execution_count": 43,
   "metadata": {},
   "outputs": [],
   "source": [
    "from astroquery.mast import Mast\n"
   ]
  },
  {
   "cell_type": "code",
   "execution_count": 50,
   "metadata": {},
   "outputs": [
    {
     "name": "stdout",
     "output_type": "stream",
     "text": [
      "{'resolvedCoordinate': [{'searchString': '326187751', 'resolver': 'TIC', 'cached': False, 'resolverTime': 15, 'searchRadius': 0.000333, 'canonicalName': 'TIC 326187751', 'ra': 310.395387369608, 'decl': -21.0304558667645}], 'status': ''}\n",
      "{'resolvedCoordinate': [{'searchString': '228963295', 'resolver': 'K2', 'cached': False, 'resolverTime': 48, 'searchRadius': 0.000333, 'canonicalName': 'EPIC 228963295', 'ra': 194.393101, 'decl': -2.155732}], 'status': ''}\n",
      "{'resolvedCoordinate': [{'searchString': '317972808', 'resolver': 'TIC', 'cached': False, 'resolverTime': 22, 'searchRadius': 0.000333, 'canonicalName': 'TIC 317972808', 'ra': 330.905455453598, 'decl': -2.56897571256093}], 'status': ''}\n",
      "{'resolvedCoordinate': [{'searchString': '37122044', 'resolver': 'TIC', 'cached': False, 'resolverTime': 24, 'searchRadius': 0.000333, 'canonicalName': 'TIC 37122044', 'ra': 90.7165284727027, 'decl': -25.7249483635671}], 'status': ''}\n",
      "{'resolvedCoordinate': [{'searchString': '424437036', 'resolver': 'TIC', 'cached': False, 'resolverTime': 27, 'searchRadius': 0.000333, 'canonicalName': 'TIC 424437036', 'ra': 274.622198686376, 'decl': 46.934379023269}], 'status': ''}\n",
      "{'resolvedCoordinate': [{'searchString': '428276530', 'resolver': 'TIC', 'cached': False, 'resolverTime': 26, 'searchRadius': 0.000333, 'canonicalName': 'TIC 428276530', 'ra': 282.321551703618, 'decl': -17.2939561188206}], 'status': ''}\n",
      "{'resolvedCoordinate': [{'searchString': '1238258', 'resolver': 'TIC', 'cached': False, 'resolverTime': 32, 'searchRadius': 0.000333, 'canonicalName': 'TIC 1238258', 'ra': 286.647820633925, 'decl': -26.1175275290452}], 'status': ''}\n",
      "{'resolvedCoordinate': [{'searchString': '8270252', 'resolver': 'TIC', 'cached': False, 'resolverTime': 18, 'searchRadius': 0.000333, 'canonicalName': 'TIC 8270252', 'ra': 278.937479574132, 'decl': 21.7307915474412}], 'status': ''}\n",
      "{'resolvedCoordinate': [{'searchString': '38211706', 'resolver': 'TIC', 'cached': False, 'resolverTime': 26, 'searchRadius': 0.000333, 'canonicalName': 'TIC 38211706', 'ra': 171.603922805782, 'decl': -2.32238647734122}], 'status': ''}\n",
      "{'resolvedCoordinate': [{'searchString': '175397199', 'resolver': 'TIC', 'cached': False, 'resolverTime': 2, 'searchRadius': 0.000333, 'canonicalName': 'TIC 175397199', 'ra': 349.281169111718, 'decl': -37.7402982804362}], 'status': ''}\n"
     ]
    }
   ],
   "source": [
    "ctl_stinfo = []\n",
    "for st in ctl.sample(10)['ticid']:\n",
    "    service = 'Mast.Name.Lookup'\n",
    "    params ={'input':str(st),\n",
    "          'format':'json'}\n",
    "\n",
    "    response = Mast.service_request(service,params)\n",
    "    result = response[0].json()\n",
    "    print(result)"
   ]
  },
  {
   "cell_type": "code",
   "execution_count": 46,
   "metadata": {},
   "outputs": [
    {
     "data": {
      "text/plain": [
       "{'resolvedCoordinate': [{'searchString': '71398770',\n",
       "   'resolver': 'TIC',\n",
       "   'cached': False,\n",
       "   'resolverTime': 36,\n",
       "   'searchRadius': 0.000333,\n",
       "   'canonicalName': 'TIC 71398770',\n",
       "   'ra': 116.292266916107,\n",
       "   'decl': 68.633140621685}],\n",
       " 'status': ''}"
      ]
     },
     "execution_count": 46,
     "metadata": {},
     "output_type": "execute_result"
    }
   ],
   "source": [
    "result"
   ]
  },
  {
   "cell_type": "code",
   "execution_count": 48,
   "metadata": {},
   "outputs": [
    {
     "name": "stdout",
     "output_type": "stream",
     "text": [
      "Help on function service_request in module astroquery.utils.process_asyncs:\n",
      "\n",
      "service_request(self, *args, **kwargs)\n",
      "    Queries the service and returns a table object.\n",
      "    \n",
      "    Given a Mashup service and parameters, builds and excecutes a Mashup query.\n",
      "    See documentation `here <https://mast.stsci.edu/api/v0/class_mashup_1_1_mashup_request.html>`__\n",
      "    for information about how to build a Mashup request.\n",
      "    \n",
      "    Parameters\n",
      "    ----------\n",
      "    service : str\n",
      "        The Mashup service to query.\n",
      "    params : dict\n",
      "        JSON object containing service parameters.\n",
      "    pagesize : int, optional\n",
      "        Default None.\n",
      "        Can be used to override the default pagesize (set in configs) for this query only.\n",
      "        E.g. when using a slow internet connection.\n",
      "    page : int, optional\n",
      "        Default None.\n",
      "        Can be used to override the default behavior of all results being returned to obtain\n",
      "        a specific page of results.\n",
      "    **kwargs :\n",
      "        See MashupRequest properties\n",
      "        `here <https://mast.stsci.edu/api/v0/class_mashup_1_1_mashup_request.html>`__\n",
      "        for additional keyword arguments.\n",
      "    \n",
      "    Returns\n",
      "    -------\n",
      "    table : A `~astropy.table.Table` object.\n",
      "\n"
     ]
    }
   ],
   "source": [
    "help(Mast.service_request)"
   ]
  },
  {
   "cell_type": "code",
   "execution_count": 49,
   "metadata": {},
   "outputs": [],
   "source": [
    "from astroquery.mast import Observations"
   ]
  },
  {
   "cell_type": "code",
   "execution_count": 54,
   "metadata": {},
   "outputs": [
    {
     "name": "stdout",
     "output_type": "stream",
     "text": [
      "intentType obs_collection instrument_name ...    objID         distance     \n",
      "---------- -------------- --------------- ... ----------- ------------------\n",
      "   science            PS1            GPC1 ... 16000419497                0.0\n",
      "   science            PS1            GPC1 ... 16000419498                0.0\n",
      "   science            PS1            GPC1 ... 16000419499                0.0\n",
      "   science            PS1            GPC1 ... 16000419500                0.0\n",
      "   science            PS1            GPC1 ... 16000419501                0.0\n",
      "   science            PS1            GPC1 ... 16000419502                0.0\n",
      "   science            PS1            GPC1 ... 16000419503                0.0\n",
      "   science            PS1            GPC1 ... 16000419504                0.0\n",
      "   science            PS1            GPC1 ... 16000419505                0.0\n",
      "   science            PS1            GPC1 ... 16000419506                0.0\n",
      "   science            PS1            GPC1 ... 16000419552 194.36580922671632\n",
      "   science            PS1            GPC1 ... 16000419553 194.36580922671632\n",
      "   science            PS1            GPC1 ... 16000419554 194.36580922671632\n",
      "   science            PS1            GPC1 ... 16000419555 194.36580922671632\n",
      "   science            PS1            GPC1 ... 16000419556 194.36580922671632\n",
      "   science            PS1            GPC1 ... 16000419547 194.36853447375944\n",
      "   science            PS1            GPC1 ... 16000419548 194.36853447375944\n",
      "   science            PS1            GPC1 ... 16000419549 194.36853447375944\n",
      "   science            PS1            GPC1 ... 16000419550 194.36853447375944\n",
      "   science            PS1            GPC1 ... 16000419551 194.36853447375944\n",
      "intentType obs_collection instrument_name ...    objID         distance    \n",
      "---------- -------------- --------------- ... ----------- -----------------\n",
      "   science           TESS      Photometer ... 17001665292               0.0\n",
      "   science           TESS      Photometer ... 17001608350 711.7415816077843\n",
      "   science          SWIFT            UVOT ... 15000685301 606.4765563604303\n",
      "   science            PS1            GPC1 ... 16000046592               0.0\n",
      "   science            PS1            GPC1 ... 16000046593               0.0\n",
      "   science            PS1            GPC1 ... 16000046594               0.0\n",
      "   science            PS1            GPC1 ... 16000046595               0.0\n",
      "   science            PS1            GPC1 ... 16000046596               0.0\n",
      "   science            PS1            GPC1 ... 16000046587  455.834285009384\n",
      "   science            PS1            GPC1 ... 16000046588  455.834285009384\n",
      "   science            PS1            GPC1 ... 16000046589  455.834285009384\n",
      "   science            PS1            GPC1 ... 16000046590  455.834285009384\n",
      "   science            PS1            GPC1 ... 16000046591  455.834285009384\n",
      "   science            PS1            GPC1 ... 16000046542 534.2567051017134\n",
      "   science            PS1            GPC1 ... 16000046543 534.2567051017134\n",
      "   science            PS1            GPC1 ... 16000046544 534.2567051017134\n",
      "   science            PS1            GPC1 ... 16000046545 534.2567051017134\n",
      "   science            PS1            GPC1 ... 16000046546 534.2567051017134\n",
      "   science            PS1            GPC1 ... 16000046537 702.2923528482042\n",
      "   science            PS1            GPC1 ... 16000046538 702.2923528482042\n",
      "   science            PS1            GPC1 ... 16000046539 702.2923528482042\n",
      "   science            PS1            GPC1 ... 16000046540 702.2923528482042\n",
      "   science            PS1            GPC1 ... 16000046541 702.2923528482042\n",
      "intentType obs_collection instrument_name ...    objID         distance     \n",
      "---------- -------------- --------------- ... ----------- ------------------\n",
      "   science           TESS      Photometer ... 17001784155                0.0\n",
      "   science           TESS      Photometer ... 17001743644  255.2083699126132\n",
      "   science           TESS      Photometer ... 17001759514  581.5864008802646\n",
      "   science            PS1            GPC1 ... 16000264439                0.0\n",
      "   science            PS1            GPC1 ... 16000264440                0.0\n",
      "   science            PS1            GPC1 ... 16000264441                0.0\n",
      "   science            PS1            GPC1 ... 16000264442                0.0\n",
      "   science            PS1            GPC1 ... 16000264443                0.0\n",
      "   science            PS1            GPC1 ... 16000264489 395.81683351663577\n",
      "   science            PS1            GPC1 ... 16000264490 395.81683351663577\n",
      "       ...            ...             ... ...         ...                ...\n",
      "   science            PS1            GPC1 ... 16000264445  705.9288487720635\n",
      "   science            PS1            GPC1 ... 16000264446  705.9288487720635\n",
      "   science            PS1            GPC1 ... 16000264447  705.9288487720635\n",
      "   science            PS1            GPC1 ... 16000264448  705.9288487720635\n",
      "   science            IUE             LWR ...  3000025745  556.3069548756201\n",
      "   science            IUE             LWP ...  3500001440  561.0992410378147\n",
      "   science            IUE             SWP ...  3000044585  562.5143029424922\n",
      "   science          GALEX           GALEX ...  1000048924                0.0\n",
      "   science          GALEX           GALEX ...  1000004843                0.0\n",
      "   science          GALEX           GALEX ...  1000023842                0.0\n",
      "   science          GALEX           GALEX ...  1000061662                0.0\n",
      "Length = 30 rows\n",
      "intentType obs_collection instrument_name ...    objID         distance     \n",
      "---------- -------------- --------------- ... ----------- ------------------\n",
      "   science           TESS      Photometer ... 17001094587                0.0\n",
      "   science           TESS      Photometer ... 17000699962  552.5311241809734\n",
      "   science          GALEX           GALEX ...  1000037189                0.0\n",
      "   science          GALEX           GALEX ...  1000073686                0.0\n",
      "   science          GALEX           GALEX ...  1000037099 444.54371593984484\n",
      "   science          GALEX           GALEX ...  1000073596 444.54371593984484\n",
      "   science          GALEX           GALEX ...  1000037100 451.44192982681227\n",
      "   science          GALEX           GALEX ...  1000073597 451.44192982681227\n",
      "   science          GALEX           GALEX ...  1000037109  644.3311262966645\n",
      "   science          GALEX           GALEX ...  1000073606  644.3311262966645\n",
      "intentType obs_collection instrument_name ...    objID         distance     \n",
      "---------- -------------- --------------- ... ----------- ------------------\n",
      "   science            PS1            GPC1 ... 16000725614                0.0\n",
      "   science            PS1            GPC1 ... 16000725615                0.0\n",
      "   science            PS1            GPC1 ... 16000725616                0.0\n",
      "   science            PS1            GPC1 ... 16000725617                0.0\n",
      "   science            PS1            GPC1 ... 16000725618                0.0\n",
      "   science            PS1            GPC1 ... 16000725564 162.93678344110475\n",
      "   science            PS1            GPC1 ... 16000725565 162.93678344110475\n",
      "   science            PS1            GPC1 ... 16000725566 162.93678344110475\n",
      "   science            PS1            GPC1 ... 16000725567 162.93678344110475\n",
      "   science            PS1            GPC1 ... 16000725568 162.93678344110475\n",
      "       ...            ...             ... ...         ...                ...\n",
      "   science            PS1            GPC1 ... 16000725572  363.9782574661699\n",
      "   science            PS1            GPC1 ... 16000725573  363.9782574661699\n",
      "   science          GALEX           GALEX ...  1000008029                0.0\n",
      "   science          GALEX           GALEX ...  1000013537                0.0\n",
      "   science          GALEX           GALEX ...  1000052300                0.0\n",
      "   science          GALEX           GALEX ...  1000013545                0.0\n",
      "   science          GALEX           GALEX ...  1000052306                0.0\n",
      "   science          GALEX           GALEX ...  1000013538 298.29666732997237\n",
      "   science          GALEX           GALEX ...  1000052301 298.29666732997237\n",
      "   science          GALEX           GALEX ...  1000022986  593.9473569470716\n",
      "   science          GALEX           GALEX ...  1000060855  593.9473569470716\n",
      "Length = 29 rows\n"
     ]
    },
    {
     "name": "stdout",
     "output_type": "stream",
     "text": [
      "intentType obs_collection instrument_name ...    objID         distance     \n",
      "---------- -------------- --------------- ... ----------- ------------------\n",
      "   science            PS1            GPC1 ... 16000750419                0.0\n",
      "   science            PS1            GPC1 ... 16000750420                0.0\n",
      "   science            PS1            GPC1 ... 16000750421                0.0\n",
      "   science            PS1            GPC1 ... 16000750422                0.0\n",
      "   science            PS1            GPC1 ... 16000750423                0.0\n",
      "   science            PS1            GPC1 ... 16000750424                0.0\n",
      "   science            PS1            GPC1 ... 16000750425                0.0\n",
      "   science            PS1            GPC1 ... 16000750426                0.0\n",
      "   science            PS1            GPC1 ... 16000750427                0.0\n",
      "   science            PS1            GPC1 ... 16000750428                0.0\n",
      "   science            PS1            GPC1 ... 16000750374  61.28343675706916\n",
      "   science            PS1            GPC1 ... 16000750375  61.28343675706916\n",
      "   science            PS1            GPC1 ... 16000750376  61.28343675706916\n",
      "   science            PS1            GPC1 ... 16000750377  61.28343675706916\n",
      "   science            PS1            GPC1 ... 16000750378  61.28343675706916\n",
      "   science            PS1            GPC1 ... 16000750369 61.284914838961804\n",
      "   science            PS1            GPC1 ... 16000750370 61.284914838961804\n",
      "   science            PS1            GPC1 ... 16000750371 61.284914838961804\n",
      "   science            PS1            GPC1 ... 16000750372 61.284914838961804\n",
      "   science            PS1            GPC1 ... 16000750373 61.284914838961804\n",
      "   science          GALEX           GALEX ...  1000011454                0.0\n",
      "intentType obs_collection instrument_name ...    objID         distance    \n",
      "---------- -------------- --------------- ... ----------- -----------------\n",
      "   science            PS1            GPC1 ... 16000416612               0.0\n",
      "   science            PS1            GPC1 ... 16000416613               0.0\n",
      "   science            PS1            GPC1 ... 16000416614               0.0\n",
      "   science            PS1            GPC1 ... 16000416615               0.0\n",
      "   science            PS1            GPC1 ... 16000416616               0.0\n",
      "   science            PS1            GPC1 ... 16000416562 519.0719247075513\n",
      "   science            PS1            GPC1 ... 16000416563 519.0719247075513\n",
      "   science            PS1            GPC1 ... 16000416564 519.0719247075513\n",
      "   science            PS1            GPC1 ... 16000416565 519.0719247075513\n",
      "   science            PS1            GPC1 ... 16000416566 519.0719247075513\n",
      "   science            PS1            GPC1 ... 16000416617 564.8590995923471\n",
      "   science            PS1            GPC1 ... 16000416618 564.8590995923471\n",
      "   science            PS1            GPC1 ... 16000416619 564.8590995923471\n",
      "   science            PS1            GPC1 ... 16000416620 564.8590995923471\n",
      "   science            PS1            GPC1 ... 16000416621 564.8590995923471\n",
      "intentType obs_collection instrument_name ...    objID         distance     \n",
      "---------- -------------- --------------- ... ----------- ------------------\n",
      "   science          SWIFT            UVOT ... 15000224571  564.4365297987287\n",
      "   science          SWIFT            UVOT ... 15000590338  579.6708312639794\n",
      "   science          SWIFT            UVOT ... 15000590334  661.2657787316625\n",
      "   science          SWIFT            UVOT ... 15000580951  668.1262985128608\n",
      "   science          SWIFT            UVOT ... 15000675125  677.1356027562916\n",
      "   science          SWIFT            UVOT ... 15000525181    701.68584404527\n",
      "   science            PS1            GPC1 ... 16000145681                0.0\n",
      "   science            PS1            GPC1 ... 16000145682                0.0\n",
      "   science            PS1            GPC1 ... 16000145683                0.0\n",
      "   science            PS1            GPC1 ... 16000145684                0.0\n",
      "       ...            ...             ... ...         ...                ...\n",
      "   science             K2          Kepler ...  9600087891  672.8888385878178\n",
      "   science             K2          Kepler ...  9200040289  672.8888385878178\n",
      "   science             K2          Kepler ...  9300045173  672.8888385878178\n",
      "   science             K2          Kepler ...  9500536449  672.8888385878178\n",
      "   science             K2          Kepler ...  9700032515  672.8888385878178\n",
      "   science            HST         ACS/WFC ...  2037750171  438.6928774306851\n",
      "   science            HST         ACS/WFC ...  2023416506 438.77685942393515\n",
      "   science            HLA         ACS/WFC ...  2018875939 439.16628130243606\n",
      "   science            HLA         ACS/WFC ...  2018875941 439.16628130243606\n",
      "   science            HLA         ACS/WFC ...  2018875940  439.2208542249067\n",
      "   science            HLA         ACS/WFC ...  2034117144  439.2208542249067\n",
      "Length = 61 rows\n",
      "intentType obs_collection instrument_name ...    objID         distance     \n",
      "---------- -------------- --------------- ... ----------- ------------------\n",
      "   science            PS1            GPC1 ... 16000151111                0.0\n",
      "   science            PS1            GPC1 ... 16000151112                0.0\n",
      "   science            PS1            GPC1 ... 16000151113                0.0\n",
      "   science            PS1            GPC1 ... 16000151114                0.0\n",
      "   science            PS1            GPC1 ... 16000151115                0.0\n",
      "   science            PS1            GPC1 ... 16000151116  463.1690672540922\n",
      "   science            PS1            GPC1 ... 16000151117  463.1690672540922\n",
      "   science            PS1            GPC1 ... 16000151118  463.1690672540922\n",
      "   science            PS1            GPC1 ... 16000151119  463.1690672540922\n",
      "   science            PS1            GPC1 ... 16000151120  463.1690672540922\n",
      "       ...            ...             ... ...         ...                ...\n",
      "   science             K2          Kepler ...  9400137069  705.3266081875861\n",
      "   science             K2          Kepler ...  9200143380  705.3266081875861\n",
      "   science             K2          Kepler ...  9500168918  705.3266081875861\n",
      "   science             K2          Kepler ...  9600056357   711.177190746898\n",
      "   science             K2          Kepler ...  9400135753   711.177190746898\n",
      "   science             K2          Kepler ...  9200143288   711.177190746898\n",
      "   science             K2          Kepler ...  9500168826   711.177190746898\n",
      "   science          GALEX           GALEX ...  1000027212                0.0\n",
      "   science          GALEX           GALEX ...  1000064842                0.0\n",
      "   science          GALEX           GALEX ...  1000027219 482.41681119419485\n",
      "   science          GALEX           GALEX ...  1000064845 482.41681119419485\n",
      "Length = 306 rows\n",
      "intentType obs_collection instrument_name ...    objID         distance     \n",
      "---------- -------------- --------------- ... ----------- ------------------\n",
      "   science          SWIFT            UVOT ... 15000035520  532.4404538413426\n",
      "   science            PS1            GPC1 ... 16000418457                0.0\n",
      "   science            PS1            GPC1 ... 16000418458                0.0\n",
      "   science            PS1            GPC1 ... 16000418459                0.0\n",
      "   science            PS1            GPC1 ... 16000418460                0.0\n",
      "   science            PS1            GPC1 ... 16000418461                0.0\n",
      "   science            PS1            GPC1 ... 16000418407 271.84792255892734\n",
      "   science            PS1            GPC1 ... 16000418408 271.84792255892734\n",
      "   science            PS1            GPC1 ... 16000418409 271.84792255892734\n",
      "   science            PS1            GPC1 ... 16000418410 271.84792255892734\n",
      "   science            PS1            GPC1 ... 16000418411 271.84792255892734\n",
      "   science            PS1            GPC1 ... 16000418462 388.39741825377695\n",
      "   science            PS1            GPC1 ... 16000418463 388.39741825377695\n",
      "   science            PS1            GPC1 ... 16000418464 388.39741825377695\n",
      "   science            PS1            GPC1 ... 16000418465 388.39741825377695\n",
      "   science            PS1            GPC1 ... 16000418466 388.39741825377695\n",
      "   science            PS1            GPC1 ... 16000418412 473.94536096817706\n",
      "   science            PS1            GPC1 ... 16000418413 473.94536096817706\n",
      "   science            PS1            GPC1 ... 16000418414 473.94536096817706\n",
      "   science            PS1            GPC1 ... 16000418415 473.94536096817706\n",
      "   science            PS1            GPC1 ... 16000418416 473.94536096817706\n"
     ]
    }
   ],
   "source": [
    "for st in ctl.sample(100)['ticid']:\n",
    "    obj = Observations.query_object(objectname=str(st))\n",
    "    print(obj)"
   ]
  },
  {
   "cell_type": "code",
   "execution_count": null,
   "metadata": {},
   "outputs": [],
   "source": []
  },
  {
   "cell_type": "code",
   "execution_count": 55,
   "metadata": {},
   "outputs": [
    {
     "data": {
      "text/plain": [
       "['BEFS',\n",
       " 'EUVE',\n",
       " 'FUSE',\n",
       " 'GALEX',\n",
       " 'HLA',\n",
       " 'HLSP',\n",
       " 'HST',\n",
       " 'HUT',\n",
       " 'IUE',\n",
       " 'JWST',\n",
       " 'K2',\n",
       " 'K2FFI',\n",
       " 'Kepler',\n",
       " 'KeplerFFI',\n",
       " 'PS1',\n",
       " 'SWIFT',\n",
       " 'TESS',\n",
       " 'TUES',\n",
       " 'WUPPE']"
      ]
     },
     "execution_count": 55,
     "metadata": {},
     "output_type": "execute_result"
    }
   ],
   "source": [
    "Observations.list_missions()"
   ]
  },
  {
   "cell_type": "code",
   "execution_count": 57,
   "metadata": {},
   "outputs": [
    {
     "data": {
      "text/plain": [
       "astropy.table.table.Table"
      ]
     },
     "execution_count": 57,
     "metadata": {},
     "output_type": "execute_result"
    }
   ],
   "source": [
    "type(obj)"
   ]
  },
  {
   "cell_type": "code",
   "execution_count": 58,
   "metadata": {
    "scrolled": true
   },
   "outputs": [
    {
     "data": {
      "text/html": [
       "<i>Table masked=True length=21</i>\n",
       "<table id=\"table140466267624784\" class=\"table-striped table-bordered table-condensed\">\n",
       "<thead><tr><th>intentType</th><th>obs_collection</th><th>instrument_name</th><th>project</th><th>filters</th><th>wavelength_region</th><th>target_name</th><th>target_classification</th><th>obs_id</th><th>s_ra</th><th>s_dec</th><th>proposal_id</th><th>proposal_pi</th><th>dataproduct_type</th><th>calib_level</th><th>t_min</th><th>t_max</th><th>t_exptime</th><th>em_min</th><th>em_max</th><th>obs_title</th><th>t_obs_release</th><th>proposal_type</th><th>sequence_number</th><th>s_region</th><th>jpegURL</th><th>dataURL</th><th>dataRights</th><th>mtFlag</th><th>srcDen</th><th>obsid</th><th>objID</th><th>distance</th></tr></thead>\n",
       "<thead><tr><th>str7</th><th>str5</th><th>str4</th><th>str3</th><th>str4</th><th>str16</th><th>str16</th><th>str1</th><th>str31</th><th>float64</th><th>float64</th><th>str1</th><th>str1</th><th>str5</th><th>int64</th><th>float64</th><th>float64</th><th>float64</th><th>float64</th><th>float64</th><th>str14</th><th>float64</th><th>str3</th><th>int64</th><th>str611</th><th>str122</th><th>str193</th><th>str6</th><th>bool</th><th>float64</th><th>str11</th><th>str11</th><th>float64</th></tr></thead>\n",
       "<tr><td>science</td><td>SWIFT</td><td>UVOT</td><td>--</td><td>UVW1</td><td>UV;OPTICAL</td><td>1FGLJ1933.3+0723</td><td>--</td><td>00041460001</td><td>293.306483629225</td><td>7.43262306621069</td><td>--</td><td>--</td><td>cube</td><td>2</td><td>55511.7363426</td><td>55511.9326273</td><td>3382.842692999451</td><td>160900000000.0</td><td>457000000000.0</td><td>--</td><td>--</td><td>--</td><td>--</td><td>POLYGON -66.593322 7.24736 -66.587002690451158 7.2886918433270989 -66.569414 7.28919 -66.569227210140681 7.29710939710533 -66.557592 7.298094 -66.562576921533733 7.4483772307943621 -66.551343999999972 7.521774 -66.562974766381842 7.5235648434577653 -66.562677000000008 7.579029 -66.70335 7.580164 -66.838394 7.574563 -66.838330272008037 7.5669605305667167 -66.838575999999989 7.566956 -66.838638571035986 7.5605292382810507 -66.84222 7.560244 -66.83924790331244 7.4979338549406274 -66.8397125238619 7.4501922858096821 -66.86350299999998 7.279969 -66.74007499999999 7.261871 -66.593322 7.24736 -66.593322 7.24736</td><td>http://archive.stsci.edu/cgi-bin/hla/fitscut.cgi?red=sw00041460001uw1[1]&amp;size=ALL&amp;output_size=1111</td><td>http://archive.stsci.edu/missions/swift_uvot/00041460/00041460001/sw00041460001uw1_sk.img</td><td>PUBLIC</td><td>--</td><td>5885.0</td><td>15000652764</td><td>15000035520</td><td>532.4404538413426</td></tr>\n",
       "<tr><td>science</td><td>PS1</td><td>GPC1</td><td>PS1</td><td>g</td><td>OPTICAL</td><td>1484.080</td><td>--</td><td>rings.v3.skycell.1484.080.stk.g</td><td>293.0657145894888</td><td>7.397738171600369</td><td>--</td><td>--</td><td>image</td><td>3</td><td>--</td><td>--</td><td>1349.0</td><td>394299987792.96875</td><td>559299987792.9688</td><td>PS1 3PI Survey</td><td>57741.54167</td><td>3PI</td><td>--</td><td>POLYGON ICRS   293.284879     7.180146  293.286513     7.613428  292.846375     7.615275  292.845091     7.181888</td><td>https://ps1images.stsci.edu/cgi-bin/fitscut.cgi?red=/rings.v3.skycell/1484/080/rings.v3.skycell.1484.080.stk.g.unconv.fits</td><td>http://ps1images.stsci.edu/data/ps1/node02/stps02.1/nebulous/ff/f5/5926747402.gpc1:LAP.PV3.20140730.bigmem:2015:01:19:RINGS.V3:skycell.1484.080:RINGS.V3.skycell.1484.080.stk.4205975.unconv.fits</td><td>PUBLIC</td><td>--</td><td>5885.0</td><td>16000418457</td><td>16000418457</td><td>0.0</td></tr>\n",
       "<tr><td>science</td><td>PS1</td><td>GPC1</td><td>PS1</td><td>i</td><td>OPTICAL</td><td>1484.080</td><td>--</td><td>rings.v3.skycell.1484.080.stk.i</td><td>293.0657145894888</td><td>7.397738171600369</td><td>--</td><td>--</td><td>image</td><td>3</td><td>--</td><td>--</td><td>1350.0</td><td>677799987792.9688</td><td>830400024414.0625</td><td>PS1 3PI Survey</td><td>57741.54167</td><td>3PI</td><td>--</td><td>POLYGON ICRS   293.284879     7.180146  293.286513     7.613428  292.846375     7.615275  292.845091     7.181888</td><td>https://ps1images.stsci.edu/cgi-bin/fitscut.cgi?red=/rings.v3.skycell/1484/080/rings.v3.skycell.1484.080.stk.i.unconv.fits</td><td>http://ps1images.stsci.edu/data/ps1/node02/stps02.1/nebulous/a4/00/5906987211.gpc1:LAP.PV3.20140730.bigmem:2015:01:17:RINGS.V3:skycell.1484.080:RINGS.V3.skycell.1484.080.stk.4193416.unconv.fits</td><td>PUBLIC</td><td>--</td><td>5885.0</td><td>16000418458</td><td>16000418458</td><td>0.0</td></tr>\n",
       "<tr><td>science</td><td>PS1</td><td>GPC1</td><td>PS1</td><td>r</td><td>OPTICAL</td><td>1484.080</td><td>--</td><td>rings.v3.skycell.1484.080.stk.r</td><td>293.0657145894888</td><td>7.397738171600369</td><td>--</td><td>--</td><td>image</td><td>3</td><td>--</td><td>--</td><td>1352.0</td><td>538599975585.9375</td><td>703599975585.9375</td><td>PS1 3PI Survey</td><td>57741.54167</td><td>3PI</td><td>--</td><td>POLYGON ICRS   293.284879     7.180146  293.286513     7.613428  292.846375     7.615275  292.845091     7.181888</td><td>https://ps1images.stsci.edu/cgi-bin/fitscut.cgi?red=/rings.v3.skycell/1484/080/rings.v3.skycell.1484.080.stk.r.unconv.fits</td><td>http://ps1images.stsci.edu/data/ps1/node02/stps02.1/nebulous/73/20/5917988093.gpc1:LAP.PV3.20140730.bigmem:2015:01:18:RINGS.V3:skycell.1484.080:RINGS.V3.skycell.1484.080.stk.4198309.unconv.fits</td><td>PUBLIC</td><td>--</td><td>5885.0</td><td>16000418459</td><td>16000418459</td><td>0.0</td></tr>\n",
       "<tr><td>science</td><td>PS1</td><td>GPC1</td><td>PS1</td><td>y</td><td>OPTICAL;INFRARED</td><td>1484.080</td><td>--</td><td>rings.v3.skycell.1484.080.stk.y</td><td>293.0657145894888</td><td>7.397738171600369</td><td>--</td><td>--</td><td>image</td><td>3</td><td>--</td><td>--</td><td>1170.0</td><td>910000000000.0</td><td>1083800048828.125</td><td>PS1 3PI Survey</td><td>57741.54167</td><td>3PI</td><td>--</td><td>POLYGON ICRS   293.284879     7.180146  293.286513     7.613428  292.846375     7.615275  292.845091     7.181888</td><td>https://ps1images.stsci.edu/cgi-bin/fitscut.cgi?red=/rings.v3.skycell/1484/080/rings.v3.skycell.1484.080.stk.y.unconv.fits</td><td>http://ps1images.stsci.edu/data/ps1/node02/stps02.1/nebulous/b5/78/5915657048.gpc1:LAP.PV3.20140730.bigmem:2015:01:17:RINGS.V3:skycell.1484.080:RINGS.V3.skycell.1484.080.stk.4197811.unconv.fits</td><td>PUBLIC</td><td>--</td><td>5885.0</td><td>16000418460</td><td>16000418460</td><td>0.0</td></tr>\n",
       "<tr><td>science</td><td>PS1</td><td>GPC1</td><td>PS1</td><td>z</td><td>OPTICAL</td><td>1484.080</td><td>--</td><td>rings.v3.skycell.1484.080.stk.z</td><td>293.0657145894888</td><td>7.397738171600369</td><td>--</td><td>--</td><td>image</td><td>3</td><td>--</td><td>--</td><td>990.0</td><td>802799987792.9688</td><td>934599975585.9375</td><td>PS1 3PI Survey</td><td>57741.54167</td><td>3PI</td><td>--</td><td>POLYGON ICRS   293.284879     7.180146  293.286513     7.613428  292.846375     7.615275  292.845091     7.181888</td><td>https://ps1images.stsci.edu/cgi-bin/fitscut.cgi?red=/rings.v3.skycell/1484/080/rings.v3.skycell.1484.080.stk.z.unconv.fits</td><td>http://ps1images.stsci.edu/data/ps1/node02/stps02.1/nebulous/e8/7c/5911386444.gpc1:LAP.PV3.20140730.bigmem:2015:01:17:RINGS.V3:skycell.1484.080:RINGS.V3.skycell.1484.080.stk.4194916.unconv.fits</td><td>PUBLIC</td><td>--</td><td>5885.0</td><td>16000418461</td><td>16000418461</td><td>0.0</td></tr>\n",
       "<tr><td>science</td><td>PS1</td><td>GPC1</td><td>PS1</td><td>g</td><td>OPTICAL</td><td>1484.070</td><td>--</td><td>rings.v3.skycell.1484.070.stk.g</td><td>293.0643685615985</td><td>6.997638740065479</td><td>--</td><td>--</td><td>image</td><td>3</td><td>--</td><td>--</td><td>1014.0</td><td>394299987792.96875</td><td>559299987792.9688</td><td>PS1 3PI Survey</td><td>57741.54167</td><td>3PI</td><td>--</td><td>POLYGON ICRS   293.283372     6.780035  293.285004     7.213444  292.845190     7.215193  292.843908     6.781679</td><td>https://ps1images.stsci.edu/cgi-bin/fitscut.cgi?red=/rings.v3.skycell/1484/070/rings.v3.skycell.1484.070.stk.g.unconv.fits</td><td>http://ps1images.stsci.edu/data/ps1/node19/stps19.0/nebulous/67/3f/5930289950.gpc1:LAP.PV3.20140730.bigmem:2015:01:19:RINGS.V3:skycell.1484.070:RINGS.V3.skycell.1484.070.stk.4205937.unconv.fits</td><td>PUBLIC</td><td>--</td><td>5885.0</td><td>16000418407</td><td>16000418407</td><td>271.84792255892734</td></tr>\n",
       "<tr><td>science</td><td>PS1</td><td>GPC1</td><td>PS1</td><td>i</td><td>OPTICAL</td><td>1484.070</td><td>--</td><td>rings.v3.skycell.1484.070.stk.i</td><td>293.0643685615985</td><td>6.997638740065479</td><td>--</td><td>--</td><td>image</td><td>3</td><td>--</td><td>--</td><td>1020.0</td><td>677799987792.9688</td><td>830400024414.0625</td><td>PS1 3PI Survey</td><td>57741.54167</td><td>3PI</td><td>--</td><td>POLYGON ICRS   293.283372     6.780035  293.285004     7.213444  292.845190     7.215193  292.843908     6.781679</td><td>https://ps1images.stsci.edu/cgi-bin/fitscut.cgi?red=/rings.v3.skycell/1484/070/rings.v3.skycell.1484.070.stk.i.unconv.fits</td><td>http://ps1images.stsci.edu/data/ps1/node19/stps19.0/nebulous/69/37/5907067065.gpc1:LAP.PV3.20140730.bigmem:2015:01:17:RINGS.V3:skycell.1484.070:RINGS.V3.skycell.1484.070.stk.4193356.unconv.fits</td><td>PUBLIC</td><td>--</td><td>5885.0</td><td>16000418408</td><td>16000418408</td><td>271.84792255892734</td></tr>\n",
       "<tr><td>science</td><td>PS1</td><td>GPC1</td><td>PS1</td><td>r</td><td>OPTICAL</td><td>1484.070</td><td>--</td><td>rings.v3.skycell.1484.070.stk.r</td><td>293.0643685615985</td><td>6.997638740065479</td><td>--</td><td>--</td><td>image</td><td>3</td><td>--</td><td>--</td><td>876.0</td><td>538599975585.9375</td><td>703599975585.9375</td><td>PS1 3PI Survey</td><td>57741.54167</td><td>3PI</td><td>--</td><td>POLYGON ICRS   293.283372     6.780035  293.285004     7.213444  292.845190     7.215193  292.843908     6.781679</td><td>https://ps1images.stsci.edu/cgi-bin/fitscut.cgi?red=/rings.v3.skycell/1484/070/rings.v3.skycell.1484.070.stk.r.unconv.fits</td><td>http://ps1images.stsci.edu/data/ps1/node19/stps19.0/nebulous/12/33/5918040116.gpc1:LAP.PV3.20140730.bigmem:2015:01:18:RINGS.V3:skycell.1484.070:RINGS.V3.skycell.1484.070.stk.4198250.unconv.fits</td><td>PUBLIC</td><td>--</td><td>5885.0</td><td>16000418409</td><td>16000418409</td><td>271.84792255892734</td></tr>\n",
       "<tr><td>science</td><td>PS1</td><td>GPC1</td><td>PS1</td><td>y</td><td>OPTICAL;INFRARED</td><td>1484.070</td><td>--</td><td>rings.v3.skycell.1484.070.stk.y</td><td>293.0643685615985</td><td>6.997638740065479</td><td>--</td><td>--</td><td>image</td><td>3</td><td>--</td><td>--</td><td>670.0</td><td>910000000000.0</td><td>1083800048828.125</td><td>PS1 3PI Survey</td><td>57741.54167</td><td>3PI</td><td>--</td><td>POLYGON ICRS   293.283372     6.780035  293.285004     7.213444  292.845190     7.215193  292.843908     6.781679</td><td>https://ps1images.stsci.edu/cgi-bin/fitscut.cgi?red=/rings.v3.skycell/1484/070/rings.v3.skycell.1484.070.stk.y.unconv.fits</td><td>http://ps1images.stsci.edu/data/ps1/node19/stps19.0/nebulous/bd/18/5915570748.gpc1:LAP.PV3.20140730.bigmem:2015:01:17:RINGS.V3:skycell.1484.070:RINGS.V3.skycell.1484.070.stk.4197777.unconv.fits</td><td>PUBLIC</td><td>--</td><td>5885.0</td><td>16000418410</td><td>16000418410</td><td>271.84792255892734</td></tr>\n",
       "<tr><td>science</td><td>PS1</td><td>GPC1</td><td>PS1</td><td>z</td><td>OPTICAL</td><td>1484.070</td><td>--</td><td>rings.v3.skycell.1484.070.stk.z</td><td>293.0643685615985</td><td>6.997638740065479</td><td>--</td><td>--</td><td>image</td><td>3</td><td>--</td><td>--</td><td>600.0</td><td>802799987792.9688</td><td>934599975585.9375</td><td>PS1 3PI Survey</td><td>57741.54167</td><td>3PI</td><td>--</td><td>POLYGON ICRS   293.283372     6.780035  293.285004     7.213444  292.845190     7.215193  292.843908     6.781679</td><td>https://ps1images.stsci.edu/cgi-bin/fitscut.cgi?red=/rings.v3.skycell/1484/070/rings.v3.skycell.1484.070.stk.z.unconv.fits</td><td>http://ps1images.stsci.edu/data/ps1/node19/stps19.0/nebulous/e5/38/5911533577.gpc1:LAP.PV3.20140730.bigmem:2015:01:17:RINGS.V3:skycell.1484.070:RINGS.V3.skycell.1484.070.stk.4194882.unconv.fits</td><td>PUBLIC</td><td>--</td><td>5885.0</td><td>16000418411</td><td>16000418411</td><td>271.84792255892734</td></tr>\n",
       "<tr><td>science</td><td>PS1</td><td>GPC1</td><td>PS1</td><td>g</td><td>OPTICAL</td><td>1484.081</td><td>--</td><td>rings.v3.skycell.1484.081.stk.g</td><td>292.65923931996724</td><td>7.399212225150825</td><td>--</td><td>--</td><td>image</td><td>3</td><td>--</td><td>--</td><td>1014.0</td><td>394299987792.96875</td><td>559299987792.9688</td><td>PS1 3PI Survey</td><td>57741.54167</td><td>3PI</td><td>--</td><td>POLYGON ICRS   292.878654     7.181770  292.879964     7.615150  292.439649     7.616588  292.438690     7.183125</td><td>https://ps1images.stsci.edu/cgi-bin/fitscut.cgi?red=/rings.v3.skycell/1484/081/rings.v3.skycell.1484.081.stk.g.unconv.fits</td><td>http://ps1images.stsci.edu/data/ps1/node02/stps02.2/nebulous/d8/53/5930250771.gpc1:LAP.PV3.20140730.bigmem:2015:01:19:RINGS.V3:skycell.1484.081:RINGS.V3.skycell.1484.081.stk.4205945.unconv.fits</td><td>PUBLIC</td><td>--</td><td>5885.0</td><td>16000418462</td><td>16000418462</td><td>388.39741825377695</td></tr>\n",
       "<tr><td>science</td><td>PS1</td><td>GPC1</td><td>PS1</td><td>i</td><td>OPTICAL</td><td>1484.081</td><td>--</td><td>rings.v3.skycell.1484.081.stk.i</td><td>292.65923931996724</td><td>7.399212225150825</td><td>--</td><td>--</td><td>image</td><td>3</td><td>--</td><td>--</td><td>1110.0</td><td>677799987792.9688</td><td>830400024414.0625</td><td>PS1 3PI Survey</td><td>57741.54167</td><td>3PI</td><td>--</td><td>POLYGON ICRS   292.878654     7.181770  292.879964     7.615150  292.439649     7.616588  292.438690     7.183125</td><td>https://ps1images.stsci.edu/cgi-bin/fitscut.cgi?red=/rings.v3.skycell/1484/081/rings.v3.skycell.1484.081.stk.i.unconv.fits</td><td>http://ps1images.stsci.edu/data/ps1/node02/stps02.2/nebulous/b7/c6/5907037000.gpc1:LAP.PV3.20140730.bigmem:2015:01:17:RINGS.V3:skycell.1484.081:RINGS.V3.skycell.1484.081.stk.4193360.unconv.fits</td><td>PUBLIC</td><td>--</td><td>5885.0</td><td>16000418463</td><td>16000418463</td><td>388.39741825377695</td></tr>\n",
       "<tr><td>science</td><td>PS1</td><td>GPC1</td><td>PS1</td><td>r</td><td>OPTICAL</td><td>1484.081</td><td>--</td><td>rings.v3.skycell.1484.081.stk.r</td><td>292.65923931996724</td><td>7.399212225150825</td><td>--</td><td>--</td><td>image</td><td>3</td><td>--</td><td>--</td><td>996.0</td><td>538599975585.9375</td><td>703599975585.9375</td><td>PS1 3PI Survey</td><td>57741.54167</td><td>3PI</td><td>--</td><td>POLYGON ICRS   292.878654     7.181770  292.879964     7.615150  292.439649     7.616588  292.438690     7.183125</td><td>https://ps1images.stsci.edu/cgi-bin/fitscut.cgi?red=/rings.v3.skycell/1484/081/rings.v3.skycell.1484.081.stk.r.unconv.fits</td><td>http://ps1images.stsci.edu/data/ps1/node02/stps02.2/nebulous/cd/b5/5917971878.gpc1:LAP.PV3.20140730.bigmem:2015:01:18:RINGS.V3:skycell.1484.081:RINGS.V3.skycell.1484.081.stk.4198254.unconv.fits</td><td>PUBLIC</td><td>--</td><td>5885.0</td><td>16000418464</td><td>16000418464</td><td>388.39741825377695</td></tr>\n",
       "<tr><td>science</td><td>PS1</td><td>GPC1</td><td>PS1</td><td>y</td><td>OPTICAL;INFRARED</td><td>1484.081</td><td>--</td><td>rings.v3.skycell.1484.081.stk.y</td><td>292.65923931996724</td><td>7.399212225150825</td><td>--</td><td>--</td><td>image</td><td>3</td><td>--</td><td>--</td><td>770.0</td><td>910000000000.0</td><td>1083800048828.125</td><td>PS1 3PI Survey</td><td>57741.54167</td><td>3PI</td><td>--</td><td>POLYGON ICRS   292.878654     7.181770  292.879964     7.615150  292.439649     7.616588  292.438690     7.183125</td><td>https://ps1images.stsci.edu/cgi-bin/fitscut.cgi?red=/rings.v3.skycell/1484/081/rings.v3.skycell.1484.081.stk.y.unconv.fits</td><td>http://ps1images.stsci.edu/data/ps1/node02/stps02.2/nebulous/f9/54/5915738289.gpc1:LAP.PV3.20140730.bigmem:2015:01:17:RINGS.V3:skycell.1484.081:RINGS.V3.skycell.1484.081.stk.4197780.unconv.fits</td><td>PUBLIC</td><td>--</td><td>5885.0</td><td>16000418465</td><td>16000418465</td><td>388.39741825377695</td></tr>\n",
       "<tr><td>science</td><td>PS1</td><td>GPC1</td><td>PS1</td><td>z</td><td>OPTICAL</td><td>1484.081</td><td>--</td><td>rings.v3.skycell.1484.081.stk.z</td><td>292.65923931996724</td><td>7.399212225150825</td><td>--</td><td>--</td><td>image</td><td>3</td><td>--</td><td>--</td><td>600.0</td><td>802799987792.9688</td><td>934599975585.9375</td><td>PS1 3PI Survey</td><td>57741.54167</td><td>3PI</td><td>--</td><td>POLYGON ICRS   292.878654     7.181770  292.879964     7.615150  292.439649     7.616588  292.438690     7.183125</td><td>https://ps1images.stsci.edu/cgi-bin/fitscut.cgi?red=/rings.v3.skycell/1484/081/rings.v3.skycell.1484.081.stk.z.unconv.fits</td><td>http://ps1images.stsci.edu/data/ps1/node02/stps02.2/nebulous/a9/c4/5911574416.gpc1:LAP.PV3.20140730.bigmem:2015:01:17:RINGS.V3:skycell.1484.081:RINGS.V3.skycell.1484.081.stk.4194887.unconv.fits</td><td>PUBLIC</td><td>--</td><td>5885.0</td><td>16000418466</td><td>16000418466</td><td>388.39741825377695</td></tr>\n",
       "<tr><td>science</td><td>PS1</td><td>GPC1</td><td>PS1</td><td>g</td><td>OPTICAL</td><td>1484.071</td><td>--</td><td>rings.v3.skycell.1484.071.stk.g</td><td>292.658192298161</td><td>6.9990322909859035</td><td>--</td><td>--</td><td>image</td><td>3</td><td>--</td><td>--</td><td>928.0</td><td>394299987792.96875</td><td>559299987792.9688</td><td>PS1 3PI Survey</td><td>57741.54167</td><td>3PI</td><td>--</td><td>POLYGON ICRS   292.877446     6.781567  292.878755     7.215075  292.438763     7.216436  292.437805     6.782847</td><td>https://ps1images.stsci.edu/cgi-bin/fitscut.cgi?red=/rings.v3.skycell/1484/071/rings.v3.skycell.1484.071.stk.g.unconv.fits</td><td>http://ps1images.stsci.edu/data/ps1/node19/stps19.1/nebulous/b3/6f/5930272505.gpc1:LAP.PV3.20140730.bigmem:2015:01:19:RINGS.V3:skycell.1484.071:RINGS.V3.skycell.1484.071.stk.4205938.unconv.fits</td><td>PUBLIC</td><td>--</td><td>5885.0</td><td>16000418412</td><td>16000418412</td><td>473.94536096817706</td></tr>\n",
       "<tr><td>science</td><td>PS1</td><td>GPC1</td><td>PS1</td><td>i</td><td>OPTICAL</td><td>1484.071</td><td>--</td><td>rings.v3.skycell.1484.071.stk.i</td><td>292.658192298161</td><td>6.9990322909859035</td><td>--</td><td>--</td><td>image</td><td>3</td><td>--</td><td>--</td><td>1020.0</td><td>677799987792.9688</td><td>830400024414.0625</td><td>PS1 3PI Survey</td><td>57741.54167</td><td>3PI</td><td>--</td><td>POLYGON ICRS   292.877446     6.781567  292.878755     7.215075  292.438763     7.216436  292.437805     6.782847</td><td>https://ps1images.stsci.edu/cgi-bin/fitscut.cgi?red=/rings.v3.skycell/1484/071/rings.v3.skycell.1484.071.stk.i.unconv.fits</td><td>http://ps1images.stsci.edu/data/ps1/node19/stps19.1/nebulous/26/8d/5907175603.gpc1:LAP.PV3.20140730.bigmem:2015:01:17:RINGS.V3:skycell.1484.071:RINGS.V3.skycell.1484.071.stk.4193357.unconv.fits</td><td>PUBLIC</td><td>--</td><td>5885.0</td><td>16000418413</td><td>16000418413</td><td>473.94536096817706</td></tr>\n",
       "<tr><td>science</td><td>PS1</td><td>GPC1</td><td>PS1</td><td>r</td><td>OPTICAL</td><td>1484.071</td><td>--</td><td>rings.v3.skycell.1484.071.stk.r</td><td>292.658192298161</td><td>6.9990322909859035</td><td>--</td><td>--</td><td>image</td><td>3</td><td>--</td><td>--</td><td>876.0</td><td>538599975585.9375</td><td>703599975585.9375</td><td>PS1 3PI Survey</td><td>57741.54167</td><td>3PI</td><td>--</td><td>POLYGON ICRS   292.877446     6.781567  292.878755     7.215075  292.438763     7.216436  292.437805     6.782847</td><td>https://ps1images.stsci.edu/cgi-bin/fitscut.cgi?red=/rings.v3.skycell/1484/071/rings.v3.skycell.1484.071.stk.r.unconv.fits</td><td>http://ps1images.stsci.edu/data/ps1/node19/stps19.1/nebulous/c7/6d/5917954801.gpc1:LAP.PV3.20140730.bigmem:2015:01:18:RINGS.V3:skycell.1484.071:RINGS.V3.skycell.1484.071.stk.4198251.unconv.fits</td><td>PUBLIC</td><td>--</td><td>5885.0</td><td>16000418414</td><td>16000418414</td><td>473.94536096817706</td></tr>\n",
       "<tr><td>science</td><td>PS1</td><td>GPC1</td><td>PS1</td><td>y</td><td>OPTICAL;INFRARED</td><td>1484.071</td><td>--</td><td>rings.v3.skycell.1484.071.stk.y</td><td>292.658192298161</td><td>6.9990322909859035</td><td>--</td><td>--</td><td>image</td><td>3</td><td>--</td><td>--</td><td>770.0</td><td>910000000000.0</td><td>1083800048828.125</td><td>PS1 3PI Survey</td><td>57741.54167</td><td>3PI</td><td>--</td><td>POLYGON ICRS   292.877446     6.781567  292.878755     7.215075  292.438763     7.216436  292.437805     6.782847</td><td>https://ps1images.stsci.edu/cgi-bin/fitscut.cgi?red=/rings.v3.skycell/1484/071/rings.v3.skycell.1484.071.stk.y.unconv.fits</td><td>http://ps1images.stsci.edu/data/ps1/node19/stps19.1/nebulous/55/c7/5915676113.gpc1:LAP.PV3.20140730.bigmem:2015:01:17:RINGS.V3:skycell.1484.071:RINGS.V3.skycell.1484.071.stk.4197778.unconv.fits</td><td>PUBLIC</td><td>--</td><td>5885.0</td><td>16000418415</td><td>16000418415</td><td>473.94536096817706</td></tr>\n",
       "<tr><td>science</td><td>PS1</td><td>GPC1</td><td>PS1</td><td>z</td><td>OPTICAL</td><td>1484.071</td><td>--</td><td>rings.v3.skycell.1484.071.stk.z</td><td>292.658192298161</td><td>6.9990322909859035</td><td>--</td><td>--</td><td>image</td><td>3</td><td>--</td><td>--</td><td>600.0</td><td>802799987792.9688</td><td>934599975585.9375</td><td>PS1 3PI Survey</td><td>57741.54167</td><td>3PI</td><td>--</td><td>POLYGON ICRS   292.877446     6.781567  292.878755     7.215075  292.438763     7.216436  292.437805     6.782847</td><td>https://ps1images.stsci.edu/cgi-bin/fitscut.cgi?red=/rings.v3.skycell/1484/071/rings.v3.skycell.1484.071.stk.z.unconv.fits</td><td>http://ps1images.stsci.edu/data/ps1/node19/stps19.1/nebulous/9b/f9/5911572893.gpc1:LAP.PV3.20140730.bigmem:2015:01:17:RINGS.V3:skycell.1484.071:RINGS.V3.skycell.1484.071.stk.4194883.unconv.fits</td><td>PUBLIC</td><td>--</td><td>5885.0</td><td>16000418416</td><td>16000418416</td><td>473.94536096817706</td></tr>\n",
       "</table>"
      ],
      "text/plain": [
       "<Table masked=True length=21>\n",
       "intentType obs_collection instrument_name ...    objID         distance     \n",
       "   str7         str5            str4      ...    str11         float64      \n",
       "---------- -------------- --------------- ... ----------- ------------------\n",
       "   science          SWIFT            UVOT ... 15000035520  532.4404538413426\n",
       "   science            PS1            GPC1 ... 16000418457                0.0\n",
       "   science            PS1            GPC1 ... 16000418458                0.0\n",
       "   science            PS1            GPC1 ... 16000418459                0.0\n",
       "   science            PS1            GPC1 ... 16000418460                0.0\n",
       "   science            PS1            GPC1 ... 16000418461                0.0\n",
       "   science            PS1            GPC1 ... 16000418407 271.84792255892734\n",
       "   science            PS1            GPC1 ... 16000418408 271.84792255892734\n",
       "   science            PS1            GPC1 ... 16000418409 271.84792255892734\n",
       "   science            PS1            GPC1 ... 16000418410 271.84792255892734\n",
       "   science            PS1            GPC1 ... 16000418411 271.84792255892734\n",
       "   science            PS1            GPC1 ... 16000418462 388.39741825377695\n",
       "   science            PS1            GPC1 ... 16000418463 388.39741825377695\n",
       "   science            PS1            GPC1 ... 16000418464 388.39741825377695\n",
       "   science            PS1            GPC1 ... 16000418465 388.39741825377695\n",
       "   science            PS1            GPC1 ... 16000418466 388.39741825377695\n",
       "   science            PS1            GPC1 ... 16000418412 473.94536096817706\n",
       "   science            PS1            GPC1 ... 16000418413 473.94536096817706\n",
       "   science            PS1            GPC1 ... 16000418414 473.94536096817706\n",
       "   science            PS1            GPC1 ... 16000418415 473.94536096817706\n",
       "   science            PS1            GPC1 ... 16000418416 473.94536096817706"
      ]
     },
     "execution_count": 58,
     "metadata": {},
     "output_type": "execute_result"
    }
   ],
   "source": [
    "obj"
   ]
  },
  {
   "cell_type": "code",
   "execution_count": 73,
   "metadata": {},
   "outputs": [],
   "source": [
    "obstab = Observations.query_criteria(obs_id=\"tess-s0001-1-100\")\n",
    "\n",
    "prod = Observations.get_product_list(obstab)\n",
    "\n",
    "filtered = Observations.filter_products(prod, \n",
    "                                        productSubGroupDescription=\"LIGHTCURVE\",\n",
    "                                        mrp_only=False)"
   ]
  },
  {
   "cell_type": "code",
   "execution_count": 74,
   "metadata": {},
   "outputs": [],
   "source": [
    "unique = []\n",
    "for x in prod['dataproduct_type']:\n",
    "    if x not in unique:\n",
    "        unique.append(x)\n",
    "    "
   ]
  },
  {
   "cell_type": "code",
   "execution_count": 75,
   "metadata": {},
   "outputs": [
    {
     "data": {
      "text/plain": [
       "['image']"
      ]
     },
     "execution_count": 75,
     "metadata": {},
     "output_type": "execute_result"
    }
   ],
   "source": [
    "unique"
   ]
  },
  {
   "cell_type": "code",
   "execution_count": 76,
   "metadata": {},
   "outputs": [
    {
     "data": {
      "text/html": [
       "<i>Table masked=True length=203</i>\n",
       "<table id=\"table140466265052216\" class=\"table-striped table-bordered table-condensed\">\n",
       "<thead><tr><th>obsID</th><th>obs_collection</th><th>dataproduct_type</th><th>obs_id</th><th>description</th><th>type</th><th>dataURI</th><th>productType</th><th>productGroupDescription</th><th>productSubGroupDescription</th><th>productDocumentationURL</th><th>project</th><th>prvversion</th><th>proposal_id</th><th>productFilename</th><th>size</th><th>parent_obsid</th></tr></thead>\n",
       "<thead><tr><th>str10</th><th>str5</th><th>str5</th><th>str19</th><th>str139</th><th>str1</th><th>str137</th><th>str9</th><th>str28</th><th>str12</th><th>str1</th><th>str3</th><th>str1</th><th>str1</th><th>str56</th><th>int64</th><th>str10</th></tr></thead>\n",
       "<tr><td>1000117147</td><td>GALEX</td><td>image</td><td>6382667214431977472</td><td>Catalog of matches between -flagstar and -[n/f]-cat files</td><td>S</td><td>mast:GALEX/url/data/GR6/pipe/02-vsn/50334-AIS_334/d/00-visits/0001-img/07-try/AIS_334_0001_sg15-fd-cat_mch_flagstar.fits.gz</td><td>AUXILIARY</td><td>--</td><td>--</td><td>--</td><td>AIS</td><td>--</td><td>--</td><td>AIS_334_0001_sg15-fd-cat_mch_flagstar.fits.gz</td><td>6082</td><td>1000033356</td></tr>\n",
       "<tr><td>1000117147</td><td>GALEX</td><td>image</td><td>6382667214431977472</td><td>Count map (J2000)</td><td>S</td><td>mast:GALEX/url/data/GR6/pipe/02-vsn/50334-AIS_334/d/00-visits/0001-img/07-try/AIS_334_0001_sg15-fd-cnt.fits.gz</td><td>AUXILIARY</td><td>--</td><td>--</td><td>--</td><td>AIS</td><td>--</td><td>--</td><td>AIS_334_0001_sg15-fd-cnt.fits.gz</td><td>429745</td><td>1000033356</td></tr>\n",
       "<tr><td>1000117147</td><td>GALEX</td><td>image</td><td>6382667214431977472</td><td>Exposure map (J2000)</td><td>S</td><td>mast:GALEX/url/data/GR6/pipe/02-vsn/50334-AIS_334/d/00-visits/0001-img/07-try/AIS_334_0001_sg15-fd-exp.fits.gz</td><td>AUXILIARY</td><td>--</td><td>--</td><td>--</td><td>AIS</td><td>--</td><td>--</td><td>AIS_334_0001_sg15-fd-exp.fits.gz</td><td>57661</td><td>1000033356</td></tr>\n",
       "<tr><td>1000117147</td><td>GALEX</td><td>image</td><td>6382667214431977472</td><td>Artifact and source star detailed info.</td><td>S</td><td>mast:GALEX/url/data/GR6/pipe/02-vsn/50334-AIS_334/d/00-visits/0001-img/07-try/AIS_334_0001_sg15-fd-flag_tbl.fits.gz</td><td>AUXILIARY</td><td>--</td><td>--</td><td>--</td><td>AIS</td><td>--</td><td>--</td><td>AIS_334_0001_sg15-fd-flag_tbl.fits.gz</td><td>2018</td><td>1000033356</td></tr>\n",
       "<tr><td>1000117147</td><td>GALEX</td><td>image</td><td>6382667214431977472</td><td>Artifact Flag image (J2000)</td><td>S</td><td>mast:GALEX/url/data/GR6/pipe/02-vsn/50334-AIS_334/d/00-visits/0001-img/07-try/AIS_334_0001_sg15-fd-flags.fits.gz</td><td>AUXILIARY</td><td>--</td><td>--</td><td>--</td><td>AIS</td><td>--</td><td>--</td><td>AIS_334_0001_sg15-fd-flags.fits.gz</td><td>12196</td><td>1000033356</td></tr>\n",
       "<tr><td>1000117147</td><td>GALEX</td><td>image</td><td>6382667214431977472</td><td>Star catalog for flagging</td><td>S</td><td>mast:GALEX/url/data/GR6/pipe/02-vsn/50334-AIS_334/d/00-visits/0001-img/07-try/AIS_334_0001_sg15-fd-flagstar.fits.gz</td><td>AUXILIARY</td><td>--</td><td>--</td><td>--</td><td>AIS</td><td>--</td><td>--</td><td>AIS_334_0001_sg15-fd-flagstar.fits.gz</td><td>3943</td><td>1000033356</td></tr>\n",
       "<tr><td>1000117147</td><td>GALEX</td><td>image</td><td>6382667214431977472</td><td>Background subtracted intensity map (J2000)</td><td>S</td><td>mast:GALEX/url/data/GR6/pipe/02-vsn/50334-AIS_334/d/00-visits/0001-img/07-try/AIS_334_0001_sg15-fd-intbgsub.fits.gz</td><td>AUXILIARY</td><td>--</td><td>--</td><td>--</td><td>AIS</td><td>--</td><td>--</td><td>AIS_334_0001_sg15-fd-intbgsub.fits.gz</td><td>3825637</td><td>1000033356</td></tr>\n",
       "<tr><td>1000117147</td><td>GALEX</td><td>image</td><td>6382667214431977472</td><td>Time-slice count maps (J2000)</td><td>S</td><td>mast:GALEX/url/data/GR6/pipe/02-vsn/50334-AIS_334/d/00-visits/0001-img/07-try/AIS_334_0001_sg15-fd-movie.fits.gz</td><td>AUXILIARY</td><td>--</td><td>--</td><td>--</td><td>AIS</td><td>--</td><td>--</td><td>AIS_334_0001_sg15-fd-movie.fits.gz</td><td>197175</td><td>1000033356</td></tr>\n",
       "<tr><td>1000117147</td><td>GALEX</td><td>image</td><td>6382667214431977472</td><td>FUV extractions using NUV positions</td><td>S</td><td>mast:GALEX/url/data/GR6/pipe/02-vsn/50334-AIS_334/d/00-visits/0001-img/07-try/AIS_334_0001_sg15-fd-ncat.fits.gz</td><td>AUXILIARY</td><td>--</td><td>--</td><td>--</td><td>AIS</td><td>--</td><td>--</td><td>AIS_334_0001_sg15-fd-ncat.fits.gz</td><td>1510983</td><td>1000033356</td></tr>\n",
       "<tr><td>1000117147</td><td>GALEX</td><td>image</td><td>6382667214431977472</td><td>Masked field image (J2000)</td><td>S</td><td>mast:GALEX/url/data/GR6/pipe/02-vsn/50334-AIS_334/d/00-visits/0001-img/07-try/AIS_334_0001_sg15-fd-objmask.fits.gz</td><td>AUXILIARY</td><td>--</td><td>--</td><td>--</td><td>AIS</td><td>--</td><td>--</td><td>AIS_334_0001_sg15-fd-objmask.fits.gz</td><td>70017</td><td>1000033356</td></tr>\n",
       "<tr><td>...</td><td>...</td><td>...</td><td>...</td><td>...</td><td>...</td><td>...</td><td>...</td><td>...</td><td>...</td><td>...</td><td>...</td><td>...</td><td>...</td><td>...</td><td>...</td><td>...</td></tr>\n",
       "<tr><td>1000033356</td><td>GALEX</td><td>image</td><td>6382667351870930944</td><td>Manual QA data</td><td>C</td><td>mast:GALEX/url/data/GR6/pipe/02-vsn/50334-AIS_334/d/01-main/0001-img/07-try/qa/manual/AIS_334_sg15-qa.txt</td><td>INFO</td><td>--</td><td>--</td><td>--</td><td>AIS</td><td>--</td><td>--</td><td>AIS_334_sg15-qa.txt</td><td>1199</td><td>1000033356</td></tr>\n",
       "<tr><td>1000033356</td><td>GALEX</td><td>image</td><td>6382667351870930944</td><td>QAtool-style report</td><td>C</td><td>mast:GALEX/url/data/GR6/pipe/02-vsn/50334-AIS_334/d/01-main/0001-img/07-try/qa/manual/AIS_334_sg15-visit_qatool_report.txt</td><td>INFO</td><td>--</td><td>--</td><td>--</td><td>AIS</td><td>--</td><td>--</td><td>AIS_334_sg15-visit_qatool_report.txt</td><td>472</td><td>1000033356</td></tr>\n",
       "<tr><td>1000033356</td><td>GALEX</td><td>image</td><td>6382667351870930944</td><td>Output messages from coaddition pipeline</td><td>C</td><td>mast:GALEX/url/data/GR6/pipe/02-vsn/50334-AIS_334/d/01-main/0001-img/07-try/Targpipe_sg15.log</td><td>INFO</td><td>--</td><td>--</td><td>--</td><td>AIS</td><td>--</td><td>--</td><td>Targpipe_sg15.log</td><td>63155</td><td>1000033356</td></tr>\n",
       "<tr><td>1000033356</td><td>GALEX</td><td>image</td><td>6382667351870930944</td><td>Preview-Full</td><td>C</td><td>mast:GALEX/url/data/GR6/pipe/02-vsn/50334-AIS_334/d/01-main/0001-img/07-try/qa/AIS_334_sg15-xd-int_2color.jpg</td><td>PREVIEW</td><td>--</td><td>--</td><td>--</td><td>AIS</td><td>--</td><td>--</td><td>AIS_334_sg15-xd-int_2color.jpg</td><td>3541644</td><td>1000033356</td></tr>\n",
       "<tr><td>1000033356</td><td>GALEX</td><td>image</td><td>6382667351870930944</td><td>2 color large jpeg</td><td>C</td><td>mast:GALEX/url/data/GR6/pipe/02-vsn/50334-AIS_334/d/01-main/0001-img/07-try/qa/AIS_334_sg15-xd-int_2color_large.jpg</td><td>PREVIEW</td><td>--</td><td>--</td><td>--</td><td>AIS</td><td>--</td><td>--</td><td>AIS_334_sg15-xd-int_2color_large.jpg</td><td>670757</td><td>1000033356</td></tr>\n",
       "<tr><td>1000033356</td><td>GALEX</td><td>image</td><td>6382667351870930944</td><td>2 color medium jpeg</td><td>C</td><td>mast:GALEX/url/data/GR6/pipe/02-vsn/50334-AIS_334/d/01-main/0001-img/07-try/qa/AIS_334_sg15-xd-int_2color_medium.jpg</td><td>PREVIEW</td><td>--</td><td>--</td><td>--</td><td>AIS</td><td>--</td><td>--</td><td>AIS_334_sg15-xd-int_2color_medium.jpg</td><td>574110</td><td>1000033356</td></tr>\n",
       "<tr><td>1000033356</td><td>GALEX</td><td>image</td><td>6382667351870930944</td><td>&quot;``2 color&quot;&quot; images of the whole field in various sizes with and without annotations of bright stars.  NUV flux is yellow and FUV is blue.&quot;</td><td>C</td><td>mast:GALEX/url/data/GR6/pipe/02-vsn/50334-AIS_334/d/01-main/0001-img/07-try/qa/AIS_334_sg15-xd-int_2color_medium_annot.jpg</td><td>PREVIEW</td><td>--</td><td>--</td><td>--</td><td>AIS</td><td>--</td><td>--</td><td>AIS_334_sg15-xd-int_2color_medium_annot.jpg</td><td>583642</td><td>1000033356</td></tr>\n",
       "<tr><td>1000033356</td><td>GALEX</td><td>image</td><td>6382667351870930944</td><td>2 color small jpeg</td><td>C</td><td>mast:GALEX/url/data/GR6/pipe/02-vsn/50334-AIS_334/d/01-main/0001-img/07-try/qa/AIS_334_sg15-xd-int_2color_small.jpg</td><td>PREVIEW</td><td>--</td><td>--</td><td>--</td><td>AIS</td><td>--</td><td>--</td><td>AIS_334_sg15-xd-int_2color_small.jpg</td><td>133412</td><td>1000033356</td></tr>\n",
       "<tr><td>1000033356</td><td>GALEX</td><td>image</td><td>6382667351870930944</td><td>Intensity map (J2000)</td><td>C</td><td>mast:GALEX/url/data/GR6/pipe/02-vsn/50334-AIS_334/d/01-main/0001-img/07-try/AIS_334_sg15-fd-int.fits.gz</td><td>SCIENCE</td><td>Minimum Recommended Products</td><td>Imaging Only</td><td>--</td><td>AIS</td><td>--</td><td>--</td><td>AIS_334_sg15-fd-int.fits.gz</td><td>1171830</td><td>1000033356</td></tr>\n",
       "<tr><td>1000033356</td><td>GALEX</td><td>image</td><td>6382667351870930944</td><td>Intensity map (J2000)</td><td>C</td><td>mast:GALEX/url/data/GR6/pipe/02-vsn/50334-AIS_334/d/01-main/0001-img/07-try/AIS_334_sg15-nd-int.fits.gz</td><td>SCIENCE</td><td>Minimum Recommended Products</td><td>Imaging Only</td><td>--</td><td>AIS</td><td>--</td><td>--</td><td>AIS_334_sg15-nd-int.fits.gz</td><td>5831482</td><td>1000033356</td></tr>\n",
       "</table>"
      ],
      "text/plain": [
       "<Table masked=True length=203>\n",
       "  obsID    obs_collection dataproduct_type ...   size  parent_obsid\n",
       "  str10         str5            str5       ...  int64     str10    \n",
       "---------- -------------- ---------------- ... ------- ------------\n",
       "1000117147          GALEX            image ...    6082   1000033356\n",
       "1000117147          GALEX            image ...  429745   1000033356\n",
       "1000117147          GALEX            image ...   57661   1000033356\n",
       "1000117147          GALEX            image ...    2018   1000033356\n",
       "1000117147          GALEX            image ...   12196   1000033356\n",
       "1000117147          GALEX            image ...    3943   1000033356\n",
       "1000117147          GALEX            image ... 3825637   1000033356\n",
       "1000117147          GALEX            image ...  197175   1000033356\n",
       "1000117147          GALEX            image ... 1510983   1000033356\n",
       "1000117147          GALEX            image ...   70017   1000033356\n",
       "       ...            ...              ... ...     ...          ...\n",
       "1000033356          GALEX            image ...    1199   1000033356\n",
       "1000033356          GALEX            image ...     472   1000033356\n",
       "1000033356          GALEX            image ...   63155   1000033356\n",
       "1000033356          GALEX            image ... 3541644   1000033356\n",
       "1000033356          GALEX            image ...  670757   1000033356\n",
       "1000033356          GALEX            image ...  574110   1000033356\n",
       "1000033356          GALEX            image ...  583642   1000033356\n",
       "1000033356          GALEX            image ...  133412   1000033356\n",
       "1000033356          GALEX            image ... 1171830   1000033356\n",
       "1000033356          GALEX            image ... 5831482   1000033356"
      ]
     },
     "execution_count": 76,
     "metadata": {},
     "output_type": "execute_result"
    }
   ],
   "source": [
    "prod"
   ]
  },
  {
   "cell_type": "code",
   "execution_count": null,
   "metadata": {},
   "outputs": [],
   "source": []
  }
 ],
 "metadata": {
  "kernelspec": {
   "display_name": "Python 3",
   "language": "python",
   "name": "python3"
  },
  "language_info": {
   "codemirror_mode": {
    "name": "ipython",
    "version": 3
   },
   "file_extension": ".py",
   "mimetype": "text/x-python",
   "name": "python",
   "nbconvert_exporter": "python",
   "pygments_lexer": "ipython3",
   "version": "3.7.3"
  }
 },
 "nbformat": 4,
 "nbformat_minor": 2
}
